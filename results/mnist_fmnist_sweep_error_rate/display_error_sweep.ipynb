{
 "cells": [
  {
   "cell_type": "markdown",
   "id": "7e7f6f4b",
   "metadata": {},
   "source": [
    "# Load the results"
   ]
  },
  {
   "cell_type": "code",
   "execution_count": 1,
   "id": "188eeaab",
   "metadata": {},
   "outputs": [],
   "source": [
    "import os\n",
    "import pickle\n",
    "\n",
    "mnist_naive_results  = {}\n",
    "fmnist_naive_results = {}\n",
    "mnist_ltrwe_results  = {}\n",
    "fmnist_ltrwe_results = {}\n",
    "mnist_sss_results    = {}\n",
    "fmnist_sss_results   = {}\n",
    "\n",
    "error_rates = [0.0, 0.1, 0.2, 0.3, 0.4, 0.5, 0.6, 0.7, 0.8, 0.9, 1.0]\n",
    "for (idx, error_rate) in zip(range(0, len(error_rates)), error_rates):\n",
    "    with open(os.path.join('.', 'results_{}.pickle'.format(idx)), 'rb') as F:\n",
    "        mnist_naive_results.update({error_rate: pickle.load(F)})\n",
    "for (idx, error_rate) in zip(range(len(error_rates), 2*len(error_rates)), error_rates):\n",
    "    with open(os.path.join('.', 'results_{}.pickle'.format(idx)), 'rb') as F:\n",
    "        fmnist_naive_results.update({error_rate: pickle.load(F)})\n",
    "for (idx, error_rate) in zip(range(2*len(error_rates), 3*len(error_rates)), error_rates):\n",
    "    with open(os.path.join('.', 'results_{}.pickle'.format(idx)), 'rb') as F:\n",
    "        mnist_ltrwe_results.update({error_rate: pickle.load(F)})\n",
    "for (idx, error_rate) in zip(range(3*len(error_rates), 4*len(error_rates)), error_rates):\n",
    "    with open(os.path.join('.', 'results_{}.pickle'.format(idx)), 'rb') as F:\n",
    "        fmnist_ltrwe_results.update({error_rate: pickle.load(F)})\n",
    "for (idx, error_rate) in zip(range(4*len(error_rates), 5*len(error_rates)), error_rates):\n",
    "    with open(os.path.join('.', 'results_{}.pickle'.format(idx)), 'rb') as F:\n",
    "        mnist_sss_results.update({error_rate: pickle.load(F)})\n",
    "for (idx, error_rate) in zip(range(5*len(error_rates), 6*len(error_rates)), error_rates):\n",
    "    with open(os.path.join('.', 'results_{}.pickle'.format(idx)), 'rb') as F:\n",
    "        fmnist_sss_results.update({error_rate: pickle.load(F)})"
   ]
  }
 ],
 "metadata": {
  "kernelspec": {
   "display_name": "Python 3 (ipykernel)",
   "language": "python",
   "name": "python3"
  },
  "language_info": {
   "codemirror_mode": {
    "name": "ipython",
    "version": 3
   },
   "file_extension": ".py",
   "mimetype": "text/x-python",
   "name": "python",
   "nbconvert_exporter": "python",
   "pygments_lexer": "ipython3",
   "version": "3.8.8"
  }
 },
 "nbformat": 4,
 "nbformat_minor": 5
}

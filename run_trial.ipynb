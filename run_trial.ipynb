{
 "cells": [
  {
   "cell_type": "markdown",
   "id": "0c7a1f07",
   "metadata": {},
   "source": [
    "# Baseline results on MNIST and Fashion MNIST"
   ]
  },
  {
   "cell_type": "markdown",
   "id": "cc43d944",
   "metadata": {},
   "source": [
    "## Training on MNIST"
   ]
  },
  {
   "cell_type": "code",
   "execution_count": 1,
   "id": "5d9848bd",
   "metadata": {},
   "outputs": [],
   "source": [
    "import numpy as np\n",
    "import datasets\n",
    "from torch.utils.data import DataLoader\n",
    "\n",
    "num_epochs = 5\n",
    "\n",
    "dataloader_kwargs = {\n",
    "    'batch_size': 64,\n",
    "    'shuffle': True\n",
    "}\n",
    "\n",
    "(train_dataset, test_dataset) = datasets.load_mnist()\n",
    "train_dataloader = DataLoader(train_dataset, **dataloader_kwargs)\n",
    "test_dataloader = DataLoader(test_dataset, **dataloader_kwargs)"
   ]
  },
  {
   "cell_type": "code",
   "execution_count": 2,
   "id": "303e1c57",
   "metadata": {},
   "outputs": [
    {
     "name": "stdout",
     "output_type": "stream",
     "text": [
      "MultilayerPerceptron(\n",
      "  (model): Sequential(\n",
      "    (0): Linear(in_features=784, out_features=512, bias=True)\n",
      "    (1): ReLU()\n",
      "    (2): Linear(in_features=512, out_features=512, bias=True)\n",
      "    (3): ReLU()\n",
      "    (4): Linear(in_features=512, out_features=512, bias=True)\n",
      "    (5): ReLU()\n",
      "    (6): Linear(in_features=512, out_features=10, bias=True)\n",
      "  )\n",
      ")\n"
     ]
    }
   ],
   "source": [
    "from models import MultilayerPerceptron\n",
    "from torch import nn\n",
    "\n",
    "device = 'cpu'\n",
    "model = MultilayerPerceptron([512, 512, 512],\n",
    "                                    nn.ReLU(),\n",
    "                                    None,\n",
    "                                    (1, 28, 28),\n",
    "                                    (10,))\n",
    "model = model.to(device)\n",
    "print(model)"
   ]
  },
  {
   "cell_type": "code",
   "execution_count": 3,
   "id": "849ffb31",
   "metadata": {},
   "outputs": [
    {
     "name": "stderr",
     "output_type": "stream",
     "text": [
      "100%|██████████████████████████████████████████████████████████████████████████| 5/5 [01:50<00:00, 22.01s/it]\n"
     ]
    }
   ],
   "source": [
    "from train import train\n",
    "from torch import optim\n",
    "\n",
    "mnist_results = train(model, train_dataloader, test_dataloader,\n",
    "                      nn.CrossEntropyLoss(),\n",
    "                      optim.RMSprop(model.parameters()),\n",
    "                      device,\n",
    "                      num_epochs)"
   ]
  },
  {
   "cell_type": "markdown",
   "id": "d10ee054",
   "metadata": {},
   "source": [
    "## Training on Fashion MNIST"
   ]
  },
  {
   "cell_type": "code",
   "execution_count": 4,
   "id": "f3506984",
   "metadata": {},
   "outputs": [],
   "source": [
    "import numpy as np\n",
    "import datasets\n",
    "from torch.utils.data import DataLoader\n",
    "\n",
    "dataloader_kwargs = {\n",
    "    'batch_size': 64,\n",
    "    'shuffle': True\n",
    "}\n",
    "\n",
    "(train_dataset, test_dataset) = datasets.load_fashion_mnist()\n",
    "train_dataloader = DataLoader(train_dataset, **dataloader_kwargs)\n",
    "test_dataloader = DataLoader(test_dataset, **dataloader_kwargs)"
   ]
  },
  {
   "cell_type": "code",
   "execution_count": 5,
   "id": "2c07e7c9",
   "metadata": {},
   "outputs": [
    {
     "name": "stdout",
     "output_type": "stream",
     "text": [
      "MultilayerPerceptron(\n",
      "  (model): Sequential(\n",
      "    (0): Linear(in_features=784, out_features=512, bias=True)\n",
      "    (1): ReLU()\n",
      "    (2): Linear(in_features=512, out_features=512, bias=True)\n",
      "    (3): ReLU()\n",
      "    (4): Linear(in_features=512, out_features=512, bias=True)\n",
      "    (5): ReLU()\n",
      "    (6): Linear(in_features=512, out_features=10, bias=True)\n",
      "  )\n",
      ")\n"
     ]
    }
   ],
   "source": [
    "from models import MultilayerPerceptron\n",
    "from torch import nn\n",
    "\n",
    "model = MultilayerPerceptron([512, 512, 512],\n",
    "                                    nn.ReLU(),\n",
    "                                    None,\n",
    "                                    (1, 28, 28),\n",
    "                                    (10,))\n",
    "model = model.to(device)\n",
    "print(model)"
   ]
  },
  {
   "cell_type": "code",
   "execution_count": 6,
   "id": "ff4449b3",
   "metadata": {},
   "outputs": [
    {
     "name": "stderr",
     "output_type": "stream",
     "text": [
      "100%|██████████████████████████████████████████████████████████████████████████| 5/5 [01:50<00:00, 22.15s/it]\n"
     ]
    }
   ],
   "source": [
    "from train import train\n",
    "from torch import optim\n",
    "\n",
    "fmnist_results = train(model, train_dataloader, test_dataloader,\n",
    "                      nn.CrossEntropyLoss(),\n",
    "                      optim.RMSprop(model.parameters()),\n",
    "                      device,\n",
    "                      num_epochs)"
   ]
  },
  {
   "cell_type": "markdown",
   "id": "f6e8e57a",
   "metadata": {},
   "source": [
    "## Displaying results"
   ]
  },
  {
   "cell_type": "code",
   "execution_count": 8,
   "id": "7a97ac49",
   "metadata": {},
   "outputs": [
    {
     "data": {
      "image/png": "[encoded data removed]",
      "text/plain": [
       "<Figure size 576x288 with 2 Axes>"
      ]
     },
     "metadata": {
      "needs_background": "light"
     },
     "output_type": "display_data"
    },
    {
     "data": {
      "image/png": "[encoded data removed]",
      "text/plain": [
       "<Figure size 576x288 with 2 Axes>"
      ]
     },
     "metadata": {
      "needs_background": "light"
     },
     "output_type": "display_data"
    }
   ],
   "source": [
    "from matplotlib import pyplot as plt\n",
    "\n",
    "for results_dict, name in zip([mnist_results, fmnist_results], ['MNIST', 'Fashion MNIST']):\n",
    "    (fig, ax) = plt.subplots(1, 2, figsize=(8, 4))\n",
    "    for key in results_dict['train_loss']:\n",
    "        if key != 0:\n",
    "            epoch = np.linspace(key-1, key, len(results_dict['train_loss'][key]))\n",
    "        else:\n",
    "            epoch = [0]\n",
    "        ax[0].plot(epoch, results_dict['train_loss'][key], color='blue', label='Train' if key==0 else None)\n",
    "    ax[0].plot(np.arange(len(results_dict['test_loss'])), results_dict['test_loss'], '.', color='red', label='Test')\n",
    "    fig.suptitle('Training on %s'%(name))\n",
    "    ax[0].set_yscale('log')\n",
    "    ax[0].set_xlabel('Epoch')\n",
    "    ax[0].set_ylabel('Loss')\n",
    "    ax[0].legend()\n",
    "    ax[1].plot(np.arange(len(results_dict['train_accuracy'])), results_dict['train_accuracy'], '.', color='blue', label='Train')\n",
    "    ax[1].plot(np.arange(len(results_dict['test_accuracy'])), results_dict['test_accuracy'], '.', color='red', label='Test')\n",
    "    ax[1].set_xlabel('Epoch')\n",
    "    ax[1].set_ylabel('Accuracy')\n",
    "    ax[1].legend()\n",
    "    plt.show()"
   ]
  }
 ],
 "metadata": {
  "kernelspec": {
   "display_name": "Python 3",
   "language": "python",
   "name": "python3"
  },
  "language_info": {
   "codemirror_mode": {
    "name": "ipython",
    "version": 3
   },
   "file_extension": ".py",
   "mimetype": "text/x-python",
   "name": "python",
   "nbconvert_exporter": "python",
   "pygments_lexer": "ipython3",
   "version": "3.8.8"
  }
 },
 "nbformat": 4,
 "nbformat_minor": 5
}
